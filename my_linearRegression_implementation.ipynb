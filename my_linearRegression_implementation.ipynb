{
 "cells": [
  {
   "cell_type": "code",
   "execution_count": 2,
   "metadata": {},
   "outputs": [],
   "source": [
    "# Here we will be trying to find a way to calculate the line of best fit\n",
    "# This will be our own programming implementation, but we will use help\n",
    "# We will use help for the math aspect\n",
    "\n",
    "# So we can use the Least Squares Regression to work out our weights\n",
    "\n",
    "# This is our basic linear regression class\n",
    "\n",
    "# This is where we import all the neccesary modules\n",
    "\n",
    "import numpy as np\n",
    "import matplotlib.pyplot as plt\n",
    "import pandas as pd\n",
    "\n",
    "class LinearRegressor:\n",
    "    # We initalize in a sense our variables over here\n",
    "    sumx = 0\n",
    "    sumy = 0\n",
    "    sumxsq = 0\n",
    "    sumxy = 0\n",
    "    slope = 0\n",
    "    b = 0\n",
    "    counter = 0\n",
    "    arr = []\n",
    "    arr2 = []\n",
    "    \n",
    "    # The fitter class is to fit the data, this is how we get the values to generate our equation\n",
    "    def fitter(self, x, y):\n",
    "        for k, i in zip(x, y):\n",
    "            for m, n in zip(k, i):\n",
    "                self.sumx += m\n",
    "                self.sumy += n\n",
    "                self.sumxsq += m**2\n",
    "                self.sumxy += m*n\n",
    "                self.counter+=1\n",
    "    \n",
    "    # After we have gotten the neccesary values from fitter, we can generate our equation\n",
    "    # Note that we use the Sum of Least Squares Method\n",
    "    def equate(self):\n",
    "        self.slope = (self.sumxy - (self.sumx*self.sumy))/(self.sumxsq - (self.sumx**2))\n",
    "        self.b = (self.sumy - (self.slope*self.sumx))/(self.counter)\n",
    "    \n",
    "    # Finally once we have our equation we can do the prediction\n",
    "    # In this case we go through each value, put it throuhg the equation and format it into a 2D array\n",
    "    def predict(self, p):\n",
    "        arr = []\n",
    "        arr2 = []\n",
    "        for l in p:\n",
    "            for m in l:\n",
    "                arrwow = []\n",
    "                g = m*self.slope + self.b\n",
    "                arrwow.append(g)\n",
    "                arr2.append(arrwow)\n",
    "        np.array(arr2)\n",
    "        return(arr2)\n",
    "    \n",
    "    # This is where we can format data\n",
    "    # It was mentioned how data can sometimes be formatted incorrectly\n",
    "    # This class aims to format data properly for use with the other methods\n",
    "    def formatter(self, k):\n",
    "        k = np.array(k)\n",
    "        arr = []\n",
    "        arr2 = []\n",
    "        # We use an if statement to check for the types of arrays and run the appropriate code\n",
    "        # We use np.ndim to check for dimensions\n",
    "        # This will work for 1D and 2D arrays\n",
    "        \n",
    "        if(np.ndim(k) == 1):\n",
    "            for l in k:\n",
    "                arrwow = []\n",
    "                g = l\n",
    "                arrwow.append(g)\n",
    "                arr2.append(arrwow)\n",
    "            np.array(arr2)\n",
    "            return(arr2)\n",
    "        elif(np.ndim(k) == 2):\n",
    "            for l in k:\n",
    "                for m in l:\n",
    "                    arrwow = []\n",
    "                    g = m\n",
    "                    arrwow.append(g)\n",
    "                    arr2.append(arrwow)\n",
    "            np.array(arr2)\n",
    "            return(arr2)\n",
    "        else:\n",
    "            return(\"Invalid Array Type: Try Again with a 1D or 2D array\")\n",
    "    \n",
    "    # It is helpful to see how the coefficents(or weights) so this method uses the variables from equate and displays them\n",
    "    def coefficents(self):\n",
    "        return(\"W1:\" + str(self.slope))\n",
    "        return(\"W0:\" + str(self.b))\n",
    "    \n",
    "    # Often times it can also be helpful to test the equation for specific value so the tester method allows users to input a custom value\n",
    "    def tester(self, j):\n",
    "        return(self.slope*j + self.b)"
   ]
  },
  {
   "cell_type": "code",
   "execution_count": 3,
   "metadata": {},
   "outputs": [],
   "source": [
    "# This is where we will import our data and organize it into the x and y (or the feature matrix and dependent variables matrix)\n",
    "\n",
    "dataset_path = 'Salary_Data.csv'\n",
    "dataset = pd.read_csv(dataset_path)\n",
    "\n",
    "# This is how we index the data to split it\n",
    "# Note one thing, sometimes when we index the data it can be formatted wierdly\n",
    "# i.e the data sometimes isn't in a 2d matrix or isn't right\n",
    "\n",
    "x = dataset.iloc[:, :-1].values\n",
    "y = dataset.iloc[:, -1].values"
   ]
  },
  {
   "cell_type": "code",
   "execution_count": 4,
   "metadata": {},
   "outputs": [],
   "source": [
    "# This is where we split the data into 2 parts(train and test)\n",
    "\n",
    "from sklearn.model_selection import train_test_split\n",
    "x_train, x_test, y_train, y_test = train_test_split(x, y, test_size = .2, random_state = 0)"
   ]
  },
  {
   "cell_type": "code",
   "execution_count": 5,
   "metadata": {},
   "outputs": [
    {
     "data": {
      "text/plain": [
       "146368.2836254347"
      ]
     },
     "execution_count": 5,
     "metadata": {},
     "output_type": "execute_result"
    }
   ],
   "source": [
    "# Finally we can use our class to do our linear regression\n",
    "\n",
    "# First we initalize our class here\n",
    "lr = LinearRegressor()\n",
    "\n",
    "# Then we fix the dimensions for our x and y\n",
    "y_train = lr.formatter(y_train)\n",
    "x_train = lr.formatter(x_train)\n",
    "\n",
    "# Then we fit the data \n",
    "lr.fitter(x_train, y_train)\n",
    "\n",
    "# We then run the equation on the data we have (Least Squares Method)\n",
    "lr.equate()\n",
    "\n",
    "# Finally we have our prediction\n",
    "y_pred = lr.predict(x_train)\n",
    "\n",
    "# We can take a look at the equation as well\n",
    "lr.coefficents()\n",
    "\n",
    "# We can also test values in our equation\n",
    "lr.tester(10)\n",
    "\n",
    "# Couple things to note:\n",
    "# It is best to format everything first, then fit, equate, and predict. Then we can look at things like the coefficents and test values\n",
    "# Althout it can be noted that you can do tester after equate to test things"
   ]
  },
  {
   "cell_type": "code",
   "execution_count": 6,
   "metadata": {},
   "outputs": [
    {
     "data": {
      "image/png": "[encoded data removed]",
      "text/plain": [
       "<Figure size 432x288 with 1 Axes>"
      ]
     },
     "metadata": {
      "needs_background": "light"
     },
     "output_type": "display_data"
    }
   ],
   "source": [
    "# We can do some data visualization here\n",
    "# This is for the training data\n",
    "\n",
    "plt.scatter(x_train, y_train, color = 'red')\n",
    "plt.plot(x_train, lr.predict(x_train), color = 'blue')\n",
    "plt.title(\"Regression: X vs Y\")\n",
    "plt.xlabel = ('X - Values')\n",
    "plt.ylabel = ('Y - Values')\n",
    "plt.show()"
   ]
  },
  {
   "cell_type": "code",
   "execution_count": 7,
   "metadata": {},
   "outputs": [
    {
     "data": {
      "image/png": "[encoded data removed]",
      "text/plain": [
       "<Figure size 432x288 with 1 Axes>"
      ]
     },
     "metadata": {
      "needs_background": "light"
     },
     "output_type": "display_data"
    }
   ],
   "source": [
    "# We visualize the testing data here\n",
    "# Note how we use x_train and lr.predict(x_train)\n",
    "# This is because even if we use x_test, we would get the same line\n",
    "\n",
    "plt.scatter(x_test, y_test, color = 'red')\n",
    "plt.plot(x_train, lr.predict(x_train), color = 'blue')\n",
    "plt.xlabel = ('X - Values')\n",
    "plt.ylabel = ('Y - Values')\n",
    "plt.show()"
   ]
  },
  {
   "cell_type": "code",
   "execution_count": null,
   "metadata": {},
   "outputs": [],
   "source": []
  },
  {
   "cell_type": "code",
   "execution_count": null,
   "metadata": {},
   "outputs": [],
   "source": []
  }
 ],
 "metadata": {
  "kernelspec": {
   "display_name": "Python 3",
   "language": "python",
   "name": "python3"
  },
  "language_info": {
   "codemirror_mode": {
    "name": "ipython",
    "version": 3
   },
   "file_extension": ".py",
   "mimetype": "text/x-python",
   "name": "python",
   "nbconvert_exporter": "python",
   "pygments_lexer": "ipython3",
   "version": "3.8.3"
  }
 },
 "nbformat": 4,
 "nbformat_minor": 4
}
